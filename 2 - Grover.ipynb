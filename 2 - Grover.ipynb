{
 "cells": [
  {
   "cell_type": "code",
   "execution_count": 2,
   "id": "f9a9e4c9-0b33-4f8c-9ea0-2d2690c7929f",
   "metadata": {},
   "outputs": [],
   "source": [
    "import qiskit\n",
    "import local_helpers"
   ]
  },
  {
   "cell_type": "code",
   "execution_count": 46,
   "id": "7d3e65ca-321f-4174-ab51-f2c17b6dbc99",
   "metadata": {},
   "outputs": [
    {
     "name": "stdout",
     "output_type": "stream",
     "text": [
      "[1. 0.]\n"
     ]
    }
   ],
   "source": [
    "q = qiskit.QuantumCircuit(1)\n",
    "print(local_helpers.run_circuit(q).get_statevector(q).probabilities(qargs=[0]))"
   ]
  },
  {
   "cell_type": "code",
   "execution_count": 30,
   "id": "b88fe1f7-2d13-44ac-abaa-a9c017934e4a",
   "metadata": {},
   "outputs": [
    {
     "name": "stdout",
     "output_type": "stream",
     "text": [
      "   ┌───┐┌───┐\n",
      "q: ┤ H ├┤ Z ├\n",
      "   └───┘└───┘\n",
      "0 50%   0.71+0.00j\n",
      "1 50%  -0.71+0.00j\n",
      "   ┌───┐┌───┐┌───┐\n",
      "q: ┤ H ├┤ Z ├┤ H ├\n",
      "   └───┘└───┘└───┘\n",
      "0 0%   0.00+0.00j\n",
      "1 100%   1.00-0.00j\n",
      "\n",
      "Start to increase tagged probability\n",
      "   ┌───┐┌───┐┌───┐┌───┐┌───┐┌───┐┌───┐┌───┐\n",
      "q: ┤ H ├┤ Z ├┤ H ├┤ H ├┤ X ├┤ Z ├┤ X ├┤ H ├\n",
      "   └───┘└───┘└───┘└───┘└───┘└───┘└───┘└───┘\n",
      "0 100%  -1.00+0.00j\n",
      "1 0%   0.00-0.00j\n"
     ]
    }
   ],
   "source": [
    "q = qiskit.QuantumCircuit(1)\n",
    "q.h(0)\n",
    "q.z(0)\n",
    "print(q.draw())\n",
    "local_helpers.print_state_vector(local_helpers.run_circuit(q).get_statevector(q))\n",
    "q.h(0)\n",
    "print(q.draw())\n",
    "local_helpers.print_state_vector(local_helpers.run_circuit(q).get_statevector(q))\n",
    "print(\"\\nStart to increase tagged probability\")\n",
    "q.h(0)\n",
    "q.x(0)\n",
    "q.z(0)\n",
    "q.x(0)\n",
    "q.h(0)\n",
    "print(q.draw())\n",
    "local_helpers.print_state_vector(local_helpers.run_circuit(q).get_statevector(q))"
   ]
  },
  {
   "cell_type": "code",
   "execution_count": 60,
   "id": "02f645db-d62f-4278-83ff-4af6036ef320",
   "metadata": {},
   "outputs": [
    {
     "name": "stdout",
     "output_type": "stream",
     "text": [
      "     ┌───┐ ░         \n",
      "q_0: ┤ H ├─░───────■─\n",
      "     ├───┤ ░ ┌───┐ │ \n",
      "q_1: ┤ H ├─░─┤ X ├─■─\n",
      "     └───┘ ░ └───┘   \n",
      "This will tag '10' value with phase -1\n",
      "Now need to reverse\n",
      "     ┌───┐ ░               ░ ┌───┐ ░ \n",
      "q_0: ┤ H ├─░───────■───────░─┤ H ├─░─\n",
      "     ├───┤ ░ ┌───┐ │ ┌───┐ ░ ├───┤ ░ \n",
      "q_1: ┤ H ├─░─┤ X ├─■─┤ X ├─░─┤ H ├─░─\n",
      "     └───┘ ░ └───┘   └───┘ ░ └───┘ ░ \n",
      "00 25%   0.50-0.00j\n",
      "01 25%   0.50-0.00j\n",
      "10 25%  -0.50+0.00j\n",
      "11 25%   0.50-0.00j\n",
      "\n",
      "Start to increase tagged probability\n",
      "     ┌───┐ ░               ░ ┌───┐ ░ ┌───┐┌───┐   ┌───┐┌───┐\n",
      "q_0: ┤ H ├─░───────■───────░─┤ H ├─░─┤ H ├┤ X ├─■─┤ X ├┤ H ├\n",
      "     ├───┤ ░ ┌───┐ │ ┌───┐ ░ ├───┤ ░ ├───┤├───┤ │ ├───┤├───┤\n",
      "q_1: ┤ H ├─░─┤ X ├─■─┤ X ├─░─┤ H ├─░─┤ H ├┤ X ├─■─┤ X ├┤ H ├\n",
      "     └───┘ ░ └───┘   └───┘ ░ └───┘ ░ └───┘└───┘   └───┘└───┘\n",
      "00 0%  -0.00-0.00j\n",
      "01 0%   0.00-0.00j\n",
      "10 100%  -1.00+0.00j\n",
      "11 0%   0.00-0.00j\n"
     ]
    }
   ],
   "source": [
    "q = qiskit.QuantumCircuit(2)\n",
    "q.h(0)\n",
    "q.h(1)\n",
    "q.barrier()\n",
    "q.x([1])\n",
    "q.cz([0],[1])\n",
    "print(q.draw())\n",
    "print(\"This will tag '10' value with phase -1\")\n",
    "print(\"Now need to reverse\")\n",
    "q.x([1])\n",
    "q.barrier()\n",
    "q.h(0)\n",
    "q.h(1)\n",
    "q.barrier()\n",
    "print(q.draw())\n",
    "local_helpers.print_state_vector(local_helpers.run_circuit(q).get_statevector(q))\n",
    "print(\"\\nStart to increase tagged probability\")\n",
    "q.h(0)\n",
    "q.h(1)\n",
    "q.x(0)\n",
    "q.x(1)\n",
    "q.cz([0],[1])\n",
    "q.x(0)\n",
    "q.x(1)\n",
    "q.h(0)\n",
    "q.h(1)\n",
    "print(q.draw())\n",
    "local_helpers.print_state_vector(local_helpers.run_circuit(q).get_statevector(q))\n"
   ]
  },
  {
   "cell_type": "code",
   "execution_count": null,
   "id": "dd08a097-e753-42df-88b4-6610f433251a",
   "metadata": {},
   "outputs": [],
   "source": []
  }
 ],
 "metadata": {
  "kernelspec": {
   "display_name": "Python 3 (ipykernel)",
   "language": "python",
   "name": "python3"
  },
  "language_info": {
   "codemirror_mode": {
    "name": "ipython",
    "version": 3
   },
   "file_extension": ".py",
   "mimetype": "text/x-python",
   "name": "python",
   "nbconvert_exporter": "python",
   "pygments_lexer": "ipython3",
   "version": "3.10.8"
  }
 },
 "nbformat": 4,
 "nbformat_minor": 5
}
