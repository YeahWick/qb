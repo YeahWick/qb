{
 "cells": [
  {
   "cell_type": "code",
   "execution_count": 3,
   "id": "9830cf16-8db9-4350-a332-dbc53af7cd9a",
   "metadata": {},
   "outputs": [],
   "source": [
    "import qiskit"
   ]
  },
  {
   "cell_type": "code",
   "execution_count": 20,
   "id": "ba13db96-0e75-4f45-a32d-9ac0fc5debd4",
   "metadata": {},
   "outputs": [
    {
     "data": {
      "text/html": [
       "<pre style=\"word-wrap: normal;white-space: pre;background: #fff0;line-height: 1.1;font-family: &quot;Courier New&quot;,Courier,monospace\">     ┌───┐\n",
       "q_0: ┤ I ├\n",
       "     ├───┤\n",
       "q_1: ┤ I ├\n",
       "     └───┘\n",
       "c: 2/═════\n",
       "          </pre>"
      ],
      "text/plain": [
       "     ┌───┐\n",
       "q_0: ┤ I ├\n",
       "     ├───┤\n",
       "q_1: ┤ I ├\n",
       "     └───┘\n",
       "c: 2/═════\n",
       "          "
      ]
     },
     "execution_count": 20,
     "metadata": {},
     "output_type": "execute_result"
    }
   ],
   "source": [
    "q = qiskit.circuit.QuantumCircuit(2,2)\n",
    "q.i(0)\n",
    "q.i(1)\n",
    "q.draw()"
   ]
  },
  {
   "cell_type": "code",
   "execution_count": 21,
   "id": "8cd36cf9-15d1-4ec9-bd62-36463f539b19",
   "metadata": {},
   "outputs": [
    {
     "data": {
      "text/html": [
       "<pre style=\"word-wrap: normal;white-space: pre;background: #fff0;line-height: 1.1;font-family: &quot;Courier New&quot;,Courier,monospace\">     ┌───┐┌─┐   \n",
       "q_0: ┤ I ├┤M├───\n",
       "     ├───┤└╥┘┌─┐\n",
       "q_1: ┤ I ├─╫─┤M├\n",
       "     └───┘ ║ └╥┘\n",
       "c: 2/══════╩══╩═\n",
       "           0  1 </pre>"
      ],
      "text/plain": [
       "     ┌───┐┌─┐   \n",
       "q_0: ┤ I ├┤M├───\n",
       "     ├───┤└╥┘┌─┐\n",
       "q_1: ┤ I ├─╫─┤M├\n",
       "     └───┘ ║ └╥┘\n",
       "c: 2/══════╩══╩═\n",
       "           0  1 "
      ]
     },
     "execution_count": 21,
     "metadata": {},
     "output_type": "execute_result"
    }
   ],
   "source": [
    "q.measure([0,1],[0,1])\n",
    "q.draw()"
   ]
  },
  {
   "cell_type": "code",
   "execution_count": 27,
   "id": "8816d8c9-13c1-4170-ac92-70a90c7420ee",
   "metadata": {},
   "outputs": [
    {
     "name": "stdout",
     "output_type": "stream",
     "text": [
      "Statevector([1.+0.j, 0.+0.j, 0.+0.j, 0.+0.j],\n",
      "            dims=(2, 2))\n"
     ]
    }
   ],
   "source": [
    "backend = qiskit.Aer.get_backend('statevector_simulator')\n",
    "job = backend.run(q)\n",
    "result = job.result()\n",
    "result.get_statevector(q, decimals=2)"
   ]
  },
  {
   "cell_type": "code",
   "execution_count": null,
   "id": "37c50ab0-8711-4e22-8c24-2f35b25e1ca2",
   "metadata": {},
   "outputs": [],
   "source": []
  }
 ],
 "metadata": {
  "kernelspec": {
   "display_name": "Python 3 (ipykernel)",
   "language": "python",
   "name": "python3"
  },
  "language_info": {
   "codemirror_mode": {
    "name": "ipython",
    "version": 3
   },
   "file_extension": ".py",
   "mimetype": "text/x-python",
   "name": "python",
   "nbconvert_exporter": "python",
   "pygments_lexer": "ipython3",
   "version": "3.10.8"
  }
 },
 "nbformat": 4,
 "nbformat_minor": 5
}
