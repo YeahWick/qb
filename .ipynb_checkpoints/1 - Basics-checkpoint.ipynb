{
 "cells": [
  {
   "cell_type": "code",
   "execution_count": 38,
   "id": "9830cf16-8db9-4350-a332-dbc53af7cd9a",
   "metadata": {},
   "outputs": [
    {
     "name": "stdout",
     "output_type": "stream",
     "text": [
      "The autoreload extension is already loaded. To reload it, use:\n",
      "  %reload_ext autoreload\n"
     ]
    }
   ],
   "source": [
    "import qiskit\n",
    "import local_helpers\n",
    "%load_ext autoreload\n",
    "%autoreload 2"
   ]
  },
  {
   "cell_type": "code",
   "execution_count": 33,
   "id": "ba13db96-0e75-4f45-a32d-9ac0fc5debd4",
   "metadata": {},
   "outputs": [
    {
     "data": {
      "text/plain": [
       "<qiskit.circuit.instructionset.InstructionSet at 0x7f8ba965b490>"
      ]
     },
     "execution_count": 33,
     "metadata": {},
     "output_type": "execute_result"
    }
   ],
   "source": [
    "q = qiskit.circuit.QuantumCircuit(2,2)\n",
    "q.h(0)\n",
    "q.h(1)"
   ]
  },
  {
   "cell_type": "code",
   "execution_count": 34,
   "id": "5d82333e-9865-4c06-bf34-607b41ffc2f2",
   "metadata": {},
   "outputs": [
    {
     "data": {
      "text/html": [
       "<pre style=\"word-wrap: normal;white-space: pre;background: #fff0;line-height: 1.1;font-family: &quot;Courier New&quot;,Courier,monospace\">     ┌───┐┌───┐\n",
       "q_0: ┤ H ├┤ Y ├\n",
       "     ├───┤└───┘\n",
       "q_1: ┤ H ├─────\n",
       "     └───┘     \n",
       "c: 2/══════════\n",
       "               </pre>"
      ],
      "text/plain": [
       "     ┌───┐┌───┐\n",
       "q_0: ┤ H ├┤ Y ├\n",
       "     ├───┤└───┘\n",
       "q_1: ┤ H ├─────\n",
       "     └───┘     \n",
       "c: 2/══════════\n",
       "               "
      ]
     },
     "execution_count": 34,
     "metadata": {},
     "output_type": "execute_result"
    }
   ],
   "source": [
    "q.draw()"
   ]
  },
  {
   "cell_type": "code",
   "execution_count": 37,
   "id": "e7c79e21-ce50-46be-a345-ae0c9cf8aacb",
   "metadata": {},
   "outputs": [
    {
     "ename": "NameError",
     "evalue": "name 'q' is not defined",
     "output_type": "error",
     "traceback": [
      "\u001b[0;31m---------------------------------------------------------------------------\u001b[0m",
      "\u001b[0;31mNameError\u001b[0m                                 Traceback (most recent call last)",
      "Cell \u001b[0;32mIn[37], line 1\u001b[0m\n\u001b[0;32m----> 1\u001b[0m result \u001b[38;5;241m=\u001b[39m \u001b[43mlocal_helpers\u001b[49m\u001b[38;5;241;43m.\u001b[39;49m\u001b[43mrun_circuit\u001b[49m\u001b[43m(\u001b[49m\u001b[43mq\u001b[49m\u001b[43m)\u001b[49m\n\u001b[1;32m      2\u001b[0m local_helpers\u001b[38;5;241m.\u001b[39mprint_state_vector(result\u001b[38;5;241m.\u001b[39mget_statevector(q, decimals\u001b[38;5;241m=\u001b[39m\u001b[38;5;241m2\u001b[39m))\n",
      "File \u001b[0;32m/workspaces/qb/local_helpers/__init__.py:12\u001b[0m, in \u001b[0;36mrun_circuit\u001b[0;34m(qcircuit)\u001b[0m\n\u001b[1;32m     10\u001b[0m \u001b[38;5;28;01mdef\u001b[39;00m \u001b[38;5;21mrun_circuit\u001b[39m(qcircuit):\n\u001b[1;32m     11\u001b[0m     backend \u001b[38;5;241m=\u001b[39m qiskit\u001b[38;5;241m.\u001b[39mAer\u001b[38;5;241m.\u001b[39mget_backend(\u001b[38;5;124m'\u001b[39m\u001b[38;5;124mstatevector_simulator\u001b[39m\u001b[38;5;124m'\u001b[39m)\n\u001b[0;32m---> 12\u001b[0m     job \u001b[38;5;241m=\u001b[39m backend\u001b[38;5;241m.\u001b[39mrun(\u001b[43mq\u001b[49m)\n\u001b[1;32m     13\u001b[0m     result \u001b[38;5;241m=\u001b[39m job\u001b[38;5;241m.\u001b[39mresult()\n\u001b[1;32m     14\u001b[0m     \u001b[38;5;28;01mreturn\u001b[39;00m(result)\n",
      "\u001b[0;31mNameError\u001b[0m: name 'q' is not defined"
     ]
    }
   ],
   "source": [
    "result = local_helpers.run_circuit(q)\n",
    "local_helpers.print_state_vector(result.get_statevector(q, decimals=2))"
   ]
  },
  {
   "cell_type": "code",
   "execution_count": null,
   "id": "38135d44-f205-4a29-a916-c74255b15c95",
   "metadata": {},
   "outputs": [],
   "source": [
    "q.measure([0],[0])\n",
    "q.draw()"
   ]
  },
  {
   "cell_type": "code",
   "execution_count": null,
   "id": "10910b95-40d1-441d-a395-73889cc0593d",
   "metadata": {},
   "outputs": [],
   "source": [
    "backend = qiskit.Aer.get_backend('statevector_simulator')\n",
    "job = backend.run(q)\n",
    "result = job.result()\n",
    "local_helpers.print_state_vector(result.get_statevector(q, decimals=2))"
   ]
  },
  {
   "cell_type": "code",
   "execution_count": null,
   "id": "4a4f7bdd-3889-4317-b406-b12418191018",
   "metadata": {},
   "outputs": [],
   "source": [
    "q.measure([1],[1])\n",
    "q.draw()"
   ]
  },
  {
   "cell_type": "code",
   "execution_count": null,
   "id": "cabfa68e-2b0a-4892-ae59-0ca29457f99b",
   "metadata": {},
   "outputs": [],
   "source": [
    "local_helpers.print_state_vector(result.get_statevector(q, decimals=2))"
   ]
  }
 ],
 "metadata": {
  "kernelspec": {
   "display_name": "Python 3 (ipykernel)",
   "language": "python",
   "name": "python3"
  },
  "language_info": {
   "codemirror_mode": {
    "name": "ipython",
    "version": 3
   },
   "file_extension": ".py",
   "mimetype": "text/x-python",
   "name": "python",
   "nbconvert_exporter": "python",
   "pygments_lexer": "ipython3",
   "version": "3.10.8"
  }
 },
 "nbformat": 4,
 "nbformat_minor": 5
}
