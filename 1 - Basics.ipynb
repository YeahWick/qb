{
 "cells": [
  {
   "cell_type": "code",
   "execution_count": 39,
   "id": "9830cf16-8db9-4350-a332-dbc53af7cd9a",
   "metadata": {},
   "outputs": [
    {
     "name": "stdout",
     "output_type": "stream",
     "text": [
      "The autoreload extension is already loaded. To reload it, use:\n",
      "  %reload_ext autoreload\n"
     ]
    }
   ],
   "source": [
    "import qiskit\n",
    "import local_helpers\n",
    "%load_ext autoreload\n",
    "%autoreload 2"
   ]
  },
  {
   "cell_type": "code",
   "execution_count": 58,
   "id": "ba13db96-0e75-4f45-a32d-9ac0fc5debd4",
   "metadata": {},
   "outputs": [
    {
     "data": {
      "text/plain": [
       "<qiskit.circuit.instructionset.InstructionSet at 0x7f8ba8bf78e0>"
      ]
     },
     "execution_count": 58,
     "metadata": {},
     "output_type": "execute_result"
    }
   ],
   "source": [
    "q = qiskit.circuit.QuantumCircuit(2,2)\n",
    "q.h(0)\n",
    "q.h(1)"
   ]
  },
  {
   "cell_type": "code",
   "execution_count": 59,
   "id": "5d82333e-9865-4c06-bf34-607b41ffc2f2",
   "metadata": {},
   "outputs": [
    {
     "data": {
      "text/html": [
       "<pre style=\"word-wrap: normal;white-space: pre;background: #fff0;line-height: 1.1;font-family: &quot;Courier New&quot;,Courier,monospace\">     ┌───┐\n",
       "q_0: ┤ H ├\n",
       "     ├───┤\n",
       "q_1: ┤ H ├\n",
       "     └───┘\n",
       "c: 2/═════\n",
       "          </pre>"
      ],
      "text/plain": [
       "     ┌───┐\n",
       "q_0: ┤ H ├\n",
       "     ├───┤\n",
       "q_1: ┤ H ├\n",
       "     └───┘\n",
       "c: 2/═════\n",
       "          "
      ]
     },
     "execution_count": 59,
     "metadata": {},
     "output_type": "execute_result"
    }
   ],
   "source": [
    "q.draw()"
   ]
  },
  {
   "cell_type": "code",
   "execution_count": 60,
   "id": "e7c79e21-ce50-46be-a345-ae0c9cf8aacb",
   "metadata": {},
   "outputs": [
    {
     "name": "stdout",
     "output_type": "stream",
     "text": [
      "00 0.25%   0.50+0.00j\n",
      "01 0.25%   0.50+0.00j\n",
      "10 0.25%   0.50+0.00j\n",
      "11 0.25%   0.50+0.00j\n"
     ]
    }
   ],
   "source": [
    "result = local_helpers.run_circuit(q)\n",
    "local_helpers.print_state_vector(result.get_statevector(q, decimals=2))"
   ]
  },
  {
   "cell_type": "code",
   "execution_count": 61,
   "id": "38135d44-f205-4a29-a916-c74255b15c95",
   "metadata": {},
   "outputs": [
    {
     "data": {
      "text/html": [
       "<pre style=\"word-wrap: normal;white-space: pre;background: #fff0;line-height: 1.1;font-family: &quot;Courier New&quot;,Courier,monospace\">     ┌───┐┌─┐\n",
       "q_0: ┤ H ├┤M├\n",
       "     ├───┤└╥┘\n",
       "q_1: ┤ H ├─╫─\n",
       "     └───┘ ║ \n",
       "c: 2/══════╩═\n",
       "           0 </pre>"
      ],
      "text/plain": [
       "     ┌───┐┌─┐\n",
       "q_0: ┤ H ├┤M├\n",
       "     ├───┤└╥┘\n",
       "q_1: ┤ H ├─╫─\n",
       "     └───┘ ║ \n",
       "c: 2/══════╩═\n",
       "           0 "
      ]
     },
     "execution_count": 61,
     "metadata": {},
     "output_type": "execute_result"
    }
   ],
   "source": [
    "q.measure([0],[0])\n",
    "q.draw()"
   ]
  },
  {
   "cell_type": "code",
   "execution_count": 83,
   "id": "10910b95-40d1-441d-a395-73889cc0593d",
   "metadata": {},
   "outputs": [
    {
     "name": "stdout",
     "output_type": "stream",
     "text": [
      "00 0.50%   0.71+0.00j\n",
      "01 0.00%   0.00+0.00j\n",
      "10 0.50%   0.71+0.00j\n",
      "11 0.00%   0.00+0.00j\n"
     ]
    }
   ],
   "source": [
    "result = local_helpers.run_circuit(q)\n",
    "local_helpers.print_state_vector(result.get_statevector(q, decimals=2))"
   ]
  },
  {
   "cell_type": "code",
   "execution_count": 84,
   "id": "4a4f7bdd-3889-4317-b406-b12418191018",
   "metadata": {},
   "outputs": [
    {
     "data": {
      "text/html": [
       "<pre style=\"word-wrap: normal;white-space: pre;background: #fff0;line-height: 1.1;font-family: &quot;Courier New&quot;,Courier,monospace\">     ┌───┐┌─┐   \n",
       "q_0: ┤ H ├┤M├───\n",
       "     ├───┤└╥┘┌─┐\n",
       "q_1: ┤ H ├─╫─┤M├\n",
       "     └───┘ ║ └╥┘\n",
       "c: 2/══════╩══╩═\n",
       "           0  1 </pre>"
      ],
      "text/plain": [
       "     ┌───┐┌─┐   \n",
       "q_0: ┤ H ├┤M├───\n",
       "     ├───┤└╥┘┌─┐\n",
       "q_1: ┤ H ├─╫─┤M├\n",
       "     └───┘ ║ └╥┘\n",
       "c: 2/══════╩══╩═\n",
       "           0  1 "
      ]
     },
     "execution_count": 84,
     "metadata": {},
     "output_type": "execute_result"
    }
   ],
   "source": [
    "q.measure([1],[1])\n",
    "q.draw()"
   ]
  },
  {
   "cell_type": "code",
   "execution_count": 115,
   "id": "cabfa68e-2b0a-4892-ae59-0ca29457f99b",
   "metadata": {},
   "outputs": [
    {
     "name": "stdout",
     "output_type": "stream",
     "text": [
      "00 0.00%   0.00+0.00j\n",
      "01 0.00%   0.00+0.00j\n",
      "10 0.00%   0.00+0.00j\n",
      "11 1.00%   1.00+0.00j\n"
     ]
    }
   ],
   "source": [
    "result = local_helpers.run_circuit(q)\n",
    "local_helpers.print_state_vector(result.get_statevector(q, decimals=2))"
   ]
  }
 ],
 "metadata": {
  "kernelspec": {
   "display_name": "Python 3 (ipykernel)",
   "language": "python",
   "name": "python3"
  },
  "language_info": {
   "codemirror_mode": {
    "name": "ipython",
    "version": 3
   },
   "file_extension": ".py",
   "mimetype": "text/x-python",
   "name": "python",
   "nbconvert_exporter": "python",
   "pygments_lexer": "ipython3",
   "version": "3.10.8"
  }
 },
 "nbformat": 4,
 "nbformat_minor": 5
}
